{
 "cells": [
  {
   "cell_type": "code",
   "execution_count": 11,
   "metadata": {},
   "outputs": [
    {
     "name": "stdout",
     "output_type": "stream",
     "text": [
      "['abrobrinha', 'salada', 'batata', 'abroba', 'Insira uma palavra']\n",
      "['abrobrinha', 'salada', 'batata', 'abroba', 'Insira uma palavra', 'Insira uma palavra']\n",
      "['abrobrinha', 'salada', 'batata', 'abroba', 'Insira uma palavra', 'Insira uma palavra', 'Insira uma palavra']\n",
      "['abrobrinha', 'salada', 'batata', 'abroba', 'Insira uma palavra', 'Insira uma palavra', 'Insira uma palavra', 'Insira uma palavra']\n",
      "['abrobrinha', 'salada', 'batata', 'abroba', 'Insira uma palavra', 'Insira uma palavra', 'Insira uma palavra', 'Insira uma palavra', 'Insira uma palavra']\n",
      "['abrobrinha', 'salada', 'batata', 'abroba', 'Insira uma palavra', 'Insira uma palavra', 'Insira uma palavra', 'Insira uma palavra', 'Insira uma palavra', 'Insira uma palavra']\n",
      "['abrobrinha', 'salada', 'batata', 'abroba', 'Insira uma palavra', 'Insira uma palavra', 'Insira uma palavra', 'Insira uma palavra', 'Insira uma palavra', 'Insira uma palavra', 'Insira uma palavra']\n",
      "['abrobrinha', 'salada', 'batata', 'abroba', 'Insira uma palavra', 'Insira uma palavra', 'Insira uma palavra', 'Insira uma palavra', 'Insira uma palavra', 'Insira uma palavra', 'Insira uma palavra', 'Insira uma palavra']\n",
      "['abrobrinha', 'salada', 'batata', 'abroba', 'Insira uma palavra', 'Insira uma palavra', 'Insira uma palavra', 'Insira uma palavra', 'Insira uma palavra', 'Insira uma palavra', 'Insira uma palavra', 'Insira uma palavra', 'Insira uma palavra']\n",
      "['abrobrinha', 'salada', 'batata', 'abroba', 'Insira uma palavra', 'Insira uma palavra', 'Insira uma palavra', 'Insira uma palavra', 'Insira uma palavra', 'Insira uma palavra', 'Insira uma palavra', 'Insira uma palavra', 'Insira uma palavra', 'Insira uma palavra']\n"
     ]
    }
   ],
   "source": [
    "a = ['salada','batata','abroba']\n",
    "i = 0\n",
    "\n",
    "\n",
    "while(i < 10):\n",
    "    a.append(input('Insira uma palavra'))\n",
    "    print(a)\n",
    "\n",
    "    i = i+1\n",
    "\n"
   ]
  }
 ],
 "metadata": {
  "kernelspec": {
   "display_name": "base",
   "language": "python",
   "name": "python3"
  },
  "language_info": {
   "codemirror_mode": {
    "name": "ipython",
    "version": 3
   },
   "file_extension": ".py",
   "mimetype": "text/x-python",
   "name": "python",
   "nbconvert_exporter": "python",
   "pygments_lexer": "ipython3",
   "version": "3.9.12"
  },
  "orig_nbformat": 4
 },
 "nbformat": 4,
 "nbformat_minor": 2
}
